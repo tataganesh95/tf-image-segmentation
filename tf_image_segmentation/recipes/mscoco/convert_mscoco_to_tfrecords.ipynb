{
 "cells": [
  {
   "cell_type": "code",
   "execution_count": null,
   "metadata": {
    "collapsed": true
   },
   "outputs": [],
   "source": [
    "# Update the following four paths\n",
    "images_dir = '/mnt/disk2/mscoco/train2014/'\n",
    "seg_map_dir = '/mnt/disk2/mscoco/train2014/seg_map/'\n",
    "# This file contains the list of file names with segmentation maps\n",
    "# Note that there is no extension.\n",
    "# e.g.\n",
    "# COCO_val2014_000000000042\n",
    "# COCO_val2014_000000000073\n",
    "# COCO_val2014_000000000074\n",
    "# COCO_val2014_000000000133\n",
    "# COCO_val2014_000000000136\n",
    "# ...\n",
    "\n",
    "list_file = '/mnt/disk2/mscoco/train2014/seg_map/list.txt' \n",
    "\n",
    "tf_records_filename = '/mnt/disk2/mscoco/mscoco_train2014.tfrecords'"
   ]
  },
  {
   "cell_type": "code",
   "execution_count": null,
   "metadata": {
    "collapsed": false
   },
   "outputs": [],
   "source": [
    "import os, sys\n",
    "from PIL import Image\n",
    "\n",
    "sys.path.append(\"../../../../tf-image-segmentation/\")\n",
    "os.environ[\"CUDA_VISIBLE_DEVICES\"] = '1'\n",
    "\n",
    "from tf_image_segmentation.utils.tf_records import write_image_annotation_pairs_to_tfrecord\n",
    "\n",
    "# Get some image/annotation pairs for example \n",
    "filename_pairs = []\n",
    "with open(list_file, 'r') as ff:\n",
    "    fnames = ff.readlines()\n",
    "    for fname in fnames:\n",
    "        fname = fname.rstrip('\\n')\n",
    "        pair = (os.path.join(images_dir, fname + '.jpg'), os.path.join(seg_map_dir, fname + '.png'))\n",
    "        filename_pairs.append(pair)\n",
    "\n",
    "# You can create your own tfrecords file by providing\n",
    "# your list with (image, annotation) filename pairs here\n",
    "write_image_annotation_pairs_to_tfrecord(filename_pairs=filename_pairs,\n",
    "                                         tfrecords_filename=tf_records_filename)"
   ]
  }
 ],
 "metadata": {
  "kernelspec": {
   "display_name": "Python 2",
   "language": "python",
   "name": "python2"
  },
  "language_info": {
   "codemirror_mode": {
    "name": "ipython",
    "version": 2
   },
   "file_extension": ".py",
   "mimetype": "text/x-python",
   "name": "python",
   "nbconvert_exporter": "python",
   "pygments_lexer": "ipython2",
   "version": "2.7.12"
  }
 },
 "nbformat": 4,
 "nbformat_minor": 0
}

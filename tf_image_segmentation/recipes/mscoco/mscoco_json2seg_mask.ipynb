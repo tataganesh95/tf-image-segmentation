{
 "cells": [
  {
   "cell_type": "code",
   "execution_count": null,
   "metadata": {
    "collapsed": true
   },
   "outputs": [],
   "source": [
    "import sys\n",
    "pycoco_path = '/home/vittal/coco/PythonAPI/'\n",
    "sys.path.append(pycoco_path)\n",
    "\n",
    "from pycocotools.coco import COCO\n",
    "import numpy as np\n",
    "#import skimage.io as io\n",
    "import matplotlib.pyplot as plt\n",
    "import pylab\n",
    "from PIL import Image\n",
    "from collections import defaultdict\n",
    "import os"
   ]
  },
  {
   "cell_type": "code",
   "execution_count": null,
   "metadata": {
    "collapsed": true
   },
   "outputs": [],
   "source": [
    "# Modify the following path to point to mscoco directory\n",
    "dataDir='/mnt/disk2/mscoco/'\n",
    "dataType='val2014'\n",
    "save_path = os.path.join(data_dir, dataType, 'seg_mask')  # '/mnt/disk2/mscoco/val2014/seg_mask/'\n",
    "annFile='%s/annotations/instances_%s.json'%(dataDir,dataType)\n",
    "\n",
    "coco=COCO(annFile)"
   ]
  },
  {
   "cell_type": "code",
   "execution_count": null,
   "metadata": {
    "collapsed": true
   },
   "outputs": [],
   "source": [
    "imgToAnns = defaultdict(list)\n",
    "for ann in coco.dataset['instances']:\n",
    "    imgToAnns[ann['image_id']].append(ann)\n",
    "    anns[ann['id']] = ann"
   ]
  },
  {
   "cell_type": "code",
   "execution_count": null,
   "metadata": {
    "collapsed": true
   },
   "outputs": [],
   "source": [
    "for img_num in range(len(imgToAnns.keys())):\n",
    "    img = coco.loadImgs(imgToAnns[imgToAnns.keys()[img_num]][0]['image_id'])[0]  # Both [0]'s are used to extract the element from a list\n",
    "    h = img['height']\n",
    "    w = img['width']\n",
    "    name = img['file_name']\n",
    "    root_name = name[:-4]\n",
    "    MASK = np.zeros((h,w), dtype=np.uint8)\n",
    "    np.where( MASK > 0 )\n",
    "    for ann in imgToAnns[imgToAnns.keys()[img_num]]:\n",
    "        mask = coco.annToMask(ann)\n",
    "        ids = np.where( mask > 0 )\n",
    "        MASK[ids] = ann['category_id']\n",
    "        \n",
    "    im = Image.fromarray(MASK)\n",
    "    im.save(os.path.join(save_path, root_name + \".png\"))"
   ]
  }
 ],
 "metadata": {
  "kernelspec": {
   "display_name": "Python 2",
   "language": "python",
   "name": "python2"
  },
  "language_info": {
   "codemirror_mode": {
    "name": "ipython",
    "version": 2
   },
   "file_extension": ".py",
   "mimetype": "text/x-python",
   "name": "python",
   "nbconvert_exporter": "python",
   "pygments_lexer": "ipython2",
   "version": "2.7.12"
  }
 },
 "nbformat": 4,
 "nbformat_minor": 0
}

{
 "cells": [
  {
   "cell_type": "code",
   "execution_count": 27,
   "metadata": {
    "collapsed": false
   },
   "outputs": [],
   "source": [
    "import os, sys, glob\n",
    "#sys.path.append(\"tf-image-segmentation/\")\n",
    "os.environ[\"CUDA_VISIBLE_DEVICES\"] = '1'\n",
    "\n",
    "# based on https://github.com/martinkersner/train-DeepLab\n",
    "\n",
    "# original PASCAL VOC 2012\n",
    "# wget http://host.robots.ox.ac.uk/pascal/VOC/voc2012/VOCtrainval_11-May-2012.tar # 2 GB\n",
    "pascal_root = '/datasets/VOCdevkit/VOC2012'\n",
    "\n",
    "# berkeley augmented Pascal VOC\n",
    "# wget http://www.eecs.berkeley.edu/Research/Projects/CS/vision/grouping/semantic_contours/benchmark.tgz # 1.3 GB\n",
    "pascal_berkeley_root = '/datasets/benchmark_RELEASE'\n"
   ]
  },
  {
   "cell_type": "code",
   "execution_count": 24,
   "metadata": {
    "collapsed": false,
    "scrolled": true
   },
   "outputs": [],
   "source": [
    "from tf_image_segmentation.recipes.pascal_voc.DeepLab import utils\n",
    "from tf_image_segmentation.recipes.pascal_voc.DeepLab import mat2png\n",
    "\n",
    "# for berkely augmented Pascal VOC\n",
    "# we need to convert *.mat files to *.png\n",
    "input_path = pascal_berkeley_root + '/dataset/cls/'\n",
    "# png files will go in dataset's cls_png folder next to the cls folder \n",
    "output_path = pascal_berkeley_root + '/dataset/cls_png/'\n",
    "if not os.path.exists(output_path):\n",
    "    os.makedirs(output_path)\n",
    "    \n",
    "# go through the directory and convert the files if they aren't\n",
    "# already present\n",
    "if os.path.isdir(input_path) and os.path.isdir(output_path):\n",
    "  png_files = glob.glob(os.path.join(output_path, '*.png'))\n",
    "  if len(png_files) == 0:\n",
    "    mat_files = glob.glob(os.path.join(input_path, '*.mat'))\n",
    "    mat2png.convert_mat2png(mat_files, output_path)\n",
    "else:\n",
    "    help('Input or output path does not exist!\\n')"
   ]
  },
  {
   "cell_type": "code",
   "execution_count": 26,
   "metadata": {
    "collapsed": false
   },
   "outputs": [],
   "source": [
    "\n",
    "from PIL import Image\n",
    "\n",
    "from tf_image_segmentation.utils.pascal_voc import get_augmented_pascal_image_annotation_filename_pairs\n",
    "from tf_image_segmentation.utils.tf_records import write_image_annotation_pairs_to_tfrecord\n",
    "\n",
    "# Returns a list of (image, annotation) filename pairs (filename.jpg, filename.png)\n",
    "overall_train_image_annotation_filename_pairs, overall_val_image_annotation_filename_pairs = \\\n",
    "                get_augmented_pascal_image_annotation_filename_pairs(pascal_root=pascal_root,                                                                                                                                                  \n",
    "                pascal_berkeley_root=pascal_berkeley_root,\n",
    "                mode=2)\n",
    "\n",
    "# You can create your own tfrecords file by providing\n",
    "# your list with (image, annotation) filename pairs here\n",
    "#\n",
    "# this will create a tfrecord in:\n",
    "# tf_image_segmentation/tf_image_segmentation/recipes/pascal_voc/\n",
    "write_image_annotation_pairs_to_tfrecord(filename_pairs=overall_val_image_annotation_filename_pairs,\n",
    "                                         tfrecords_filename='pascal_augmented_val.tfrecords')\n",
    "\n",
    "write_image_annotation_pairs_to_tfrecord(filename_pairs=overall_train_image_annotation_filename_pairs,\n",
    "                                         tfrecords_filename='pascal_augmented_train.tfrecords')"
   ]
  },
  {
   "cell_type": "code",
   "execution_count": null,
   "metadata": {
    "collapsed": true
   },
   "outputs": [],
   "source": []
  }
 ],
 "metadata": {
  "kernelspec": {
   "display_name": "Python 2",
   "language": "python",
   "name": "python2"
  },
  "language_info": {
   "codemirror_mode": {
    "name": "ipython",
    "version": 2
   },
   "file_extension": ".py",
   "mimetype": "text/x-python",
   "name": "python",
   "nbconvert_exporter": "python",
   "pygments_lexer": "ipython2",
   "version": "2.7.12"
  }
 },
 "nbformat": 4,
 "nbformat_minor": 0
}
